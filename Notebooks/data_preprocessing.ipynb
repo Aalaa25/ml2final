{
 "cells": [
  {
   "cell_type": "markdown",
   "metadata": {},
   "source": [
    "## Importing Libraries"
   ]
  },
  {
   "cell_type": "code",
   "execution_count": 6,
   "metadata": {},
   "outputs": [],
   "source": [
    "import pandas as pd\n",
    "import os\n",
    "import sys\n",
    "sys.path.append(os.path.abspath(\"/Users/aalaaseif/Documents/ITI/Machine Learning 2/Final Project/src\"))\n",
    "from preprocessing import preprocess_dataframe\n",
    "from feature_extraction import extract_features  \n",
    "from clustering import apply_kmeans"
   ]
  },
  {
   "cell_type": "markdown",
   "metadata": {},
   "source": [
    "## Reading data"
   ]
  },
  {
   "cell_type": "code",
   "execution_count": 2,
   "metadata": {},
   "outputs": [],
   "source": [
    "df = pd.read_csv('/Users/aalaaseif/Documents/ITI/Machine Learning 2/Final Project/Data/people_wiki.csv') "
   ]
  },
  {
   "cell_type": "markdown",
   "metadata": {},
   "source": [
    "## Applying Preprocessing "
   ]
  },
  {
   "cell_type": "code",
   "execution_count": 3,
   "metadata": {},
   "outputs": [
    {
     "name": "stdout",
     "output_type": "stream",
     "text": [
      "                                                text  \\\n",
      "0  digby morrell born 10 october 1979 is a former...   \n",
      "1  alfred j lewy aka sandy lewy graduated from un...   \n",
      "2  harpdog brown is a singer and harmonica player...   \n",
      "3  franz rottensteiner born in waidmannsfeld lowe...   \n",
      "4  henry krvits born 30 december 1974 in tallinn ...   \n",
      "\n",
      "                                          clean_text  \n",
      "0  digby morrell born october former australian r...  \n",
      "1  alfred j lewy aka sandy lewy graduated univers...  \n",
      "2  harpdog brown singer harmonica player active c...  \n",
      "3  franz rottensteiner born waidmannsfeld lower a...  \n",
      "4  henry krvits born december tallinn better know...  \n"
     ]
    }
   ],
   "source": [
    "df = preprocess_dataframe(df)\n",
    "print(df[['text', 'clean_text']].head())"
   ]
  },
  {
   "cell_type": "markdown",
   "metadata": {},
   "source": [
    "## Feature Extraction"
   ]
  },
  {
   "cell_type": "code",
   "execution_count": 5,
   "metadata": {},
   "outputs": [],
   "source": [
    "tfidf_features, vectorizer = extract_features(df['clean_text'])\n",
    "feature_df = pd.DataFrame(tfidf_features.toarray(), columns=vectorizer.get_feature_names_out())"
   ]
  },
  {
   "cell_type": "markdown",
   "metadata": {},
   "source": [
    "## Clustring"
   ]
  },
  {
   "cell_type": "code",
   "execution_count": 7,
   "metadata": {},
   "outputs": [
    {
     "name": "stdout",
     "output_type": "stream",
     "text": [
      "                                          clean_text  cluster\n",
      "0  digby morrell born october former australian r...        2\n",
      "1  alfred j lewy aka sandy lewy graduated univers...        3\n",
      "2  harpdog brown singer harmonica player active c...        1\n",
      "3  franz rottensteiner born waidmannsfeld lower a...        3\n",
      "4  henry krvits born december tallinn better know...        1\n"
     ]
    }
   ],
   "source": [
    "cluster_labels, kmeans_model = apply_kmeans(tfidf_features, n_clusters=5)\n",
    "\n",
    "df['cluster'] = cluster_labels\n",
    "print(df[['clean_text', 'cluster']].head())"
   ]
  }
 ],
 "metadata": {
  "kernelspec": {
   "display_name": "base",
   "language": "python",
   "name": "python3"
  },
  "language_info": {
   "codemirror_mode": {
    "name": "ipython",
    "version": 3
   },
   "file_extension": ".py",
   "mimetype": "text/x-python",
   "name": "python",
   "nbconvert_exporter": "python",
   "pygments_lexer": "ipython3",
   "version": "3.12.7"
  }
 },
 "nbformat": 4,
 "nbformat_minor": 2
}
